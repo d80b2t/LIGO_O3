{
 "cells": [
  {
   "cell_type": "code",
   "execution_count": 1,
   "metadata": {},
   "outputs": [],
   "source": [
    "'''\n",
    "The Astrophysical Journal Supplement Series, 226:10 (8pp), 2016 September\n",
    "'''\n",
    "import healpy as hp\n",
    "import numpy as np\n",
    "\n",
    "from matplotlib  import pyplot as plt\n",
    "from scipy.stats import norm"
   ]
  },
  {
   "cell_type": "code",
   "execution_count": 2,
   "metadata": {},
   "outputs": [],
   "source": [
    "from astropy.utils.data import download_file\n",
    "url = ('https://dcc.ligo.org/P1500071/18951_bayestar.fits.gz')\n",
    "filename = download_file(url, cache = True)"
   ]
  },
  {
   "cell_type": "code",
   "execution_count": 3,
   "metadata": {},
   "outputs": [],
   "source": [
    "#prob = hp.read_map(filename)\n",
    "filename = '18951_bayestar.fits.gz'\n",
    "#filename = 'S190814bv_LALInference.v1.fits.gz'"
   ]
  },
  {
   "cell_type": "code",
   "execution_count": 4,
   "metadata": {},
   "outputs": [
    {
     "name": "stdout",
     "output_type": "stream",
     "text": [
      "NSIDE = 512\n",
      "ORDERING = NESTED in fits file\n",
      "INDXSCHM = IMPLICIT\n",
      "Ordering converted to RING\n",
      "Ordering converted to RING\n",
      "Ordering converted to RING\n",
      "Ordering converted to RING\n"
     ]
    }
   ],
   "source": [
    "prob, distmu, distsigma, distnorm = hp.read_map(filename, field = [0, 1, 2, 3])"
   ]
  },
  {
   "cell_type": "code",
   "execution_count": 5,
   "metadata": {},
   "outputs": [
    {
     "name": "stdout",
     "output_type": "stream",
     "text": [
      "npix 3145728\n",
      "nside 512\n"
     ]
    }
   ],
   "source": [
    "npix = len(prob)\n",
    "print('npix', npix)\n",
    "nside = hp.npix2nside(npix)\n",
    "print('nside', nside)"
   ]
  },
  {
   "cell_type": "code",
   "execution_count": 6,
   "metadata": {},
   "outputs": [],
   "source": [
    "ra, dec =  137.8, -39.9   ## for  18951_bayestar.fits.gz¢)\n",
    "theta = 0.5 * np.pi - np.deg2rad(dec)\n",
    "phi   = np.deg2rad(ra)\n"
   ]
  },
  {
   "cell_type": "code",
   "execution_count": 7,
   "metadata": {},
   "outputs": [
    {
     "name": "stdout",
     "output_type": "stream",
     "text": [
      "ipix 2582288\n"
     ]
    }
   ],
   "source": [
    "ipix = hp.ang2pix(nside, theta, phi)\n",
    "print('ipix', ipix)"
   ]
  },
  {
   "cell_type": "code",
   "execution_count": 8,
   "metadata": {},
   "outputs": [
    {
     "name": "stdout",
     "output_type": "stream",
     "text": [
      "Highest probability pixel is  705422 with  7.378718146355823e-05\n"
     ]
    }
   ],
   "source": [
    "ipix_max = np.argmax(prob)\n",
    "print('Highest probability pixel is ', ipix_max, 'with ', prob[ipix_max])"
   ]
  },
  {
   "cell_type": "code",
   "execution_count": 9,
   "metadata": {},
   "outputs": [
    {
     "name": "stdout",
     "output_type": "stream",
     "text": [
      "pixel area in steradians (at the current HEALPix resolution) =  3.994741635118857e-06\n",
      "pixel area in deg^2      (at the current HEALPix resolution) =  0.013113963206424481\n"
     ]
    }
   ],
   "source": [
    "pixarea = hp.nside2pixarea(nside) \n",
    "print('pixel area in steradians (at the current HEALPix resolution) = ', pixarea)\n",
    "pixarea_deg2 = hp.nside2pixarea(nside, degrees = True)\n",
    "print('pixel area in deg^2      (at the current HEALPix resolution) = ', pixarea_deg2)"
   ]
  },
  {
   "cell_type": "code",
   "execution_count": 10,
   "metadata": {},
   "outputs": [
    {
     "name": "stdout",
     "output_type": "stream",
     "text": [
      "probability per steradian,  7.438731704304208\n",
      "probability per deg^2,      0.002265967258250733\n"
     ]
    }
   ],
   "source": [
    "## look up the probability contained within pixel ipix and \n",
    "## (if desired) divide by the area per pixel to obtain the \n",
    "## probability per steradian:\n",
    "\n",
    "dp_dA      = prob[ipix] / pixarea \n",
    "print('probability per steradian, ', dp_dA)\n",
    "dp_dA_deg2 = prob[ipix] / pixarea_deg2 \n",
    "print('probability per deg^2,     ', dp_dA_deg2)"
   ]
  },
  {
   "cell_type": "code",
   "execution_count": 33,
   "metadata": {},
   "outputs": [],
   "source": [
    "## Conditional Distance Distribution along a Line of Sight\n",
    "## which is the probability per unit distance under the \n",
    "## assumption that the source is in a given direction\n",
    "r = np.linspace(0, 150) "
   ]
  },
  {
   "cell_type": "code",
   "execution_count": 34,
   "metadata": {},
   "outputs": [],
   "source": [
    "dp_dr_los = r ** 2 * distnorm[ipix] * norm(distmu[ipix], distsigma[ipix]).pdf(r)"
   ]
  },
  {
   "cell_type": "code",
   "execution_count": 35,
   "metadata": {},
   "outputs": [
    {
     "data": {
      "image/png": "[encoded data removed]",
      "text/plain": [
       "<Figure size 432x288 with 1 Axes>"
      ]
     },
     "metadata": {},
     "output_type": "display_data"
    }
   ],
   "source": [
    "plt.plot(r, dp_dr_los)\n",
    "plt.xlabel('distance (Mpc)') \n",
    "plt.ylabel('prob Mpc$^{-1}$') \n",
    "plt.show()"
   ]
  },
  {
   "cell_type": "code",
   "execution_count": 36,
   "metadata": {},
   "outputs": [
    {
     "data": {
      "text/plain": [
       "2582288"
      ]
     },
     "execution_count": 36,
     "metadata": {},
     "output_type": "execute_result"
    }
   ],
   "source": [
    "ipix"
   ]
  },
  {
   "cell_type": "code",
   "execution_count": 37,
   "metadata": {},
   "outputs": [],
   "source": [
    "## pick a distance, e.g. 74.8 Mpc\n",
    "r_pick = 74.8"
   ]
  },
  {
   "cell_type": "code",
   "execution_count": 38,
   "metadata": {},
   "outputs": [],
   "source": [
    "dp_dV = prob[ipix] * distnorm[ipix] * norm(distmu[ipix], distsigma[ipix]).pdf(r_pick) / pixarea "
   ]
  },
  {
   "cell_type": "code",
   "execution_count": 39,
   "metadata": {},
   "outputs": [
    {
     "data": {
      "text/plain": [
       "3.117320010912166e-05"
      ]
     },
     "execution_count": 39,
     "metadata": {},
     "output_type": "execute_result"
    }
   ],
   "source": [
    "dp_dV"
   ]
  },
  {
   "cell_type": "code",
   "execution_count": 40,
   "metadata": {},
   "outputs": [],
   "source": [
    "## Marginal Distance Distribution Integrated over the Sky\n",
    "## the probability density per unit distance integrated over \n",
    "## the entire sky:\n",
    "dp_dr_sky = [np.sum(prob * rr ** 2 * distnorm * norm(distmu,distsigma).pdf(rr)) for rr in r]"
   ]
  },
  {
   "cell_type": "code",
   "execution_count": 41,
   "metadata": {},
   "outputs": [
    {
     "data": {
      "image/png": "[encoded data removed]",
      "text/plain": [
       "<Figure size 432x288 with 1 Axes>"
      ]
     },
     "metadata": {},
     "output_type": "display_data"
    }
   ],
   "source": [
    "plt.plot(r, dp_dr_los)\n",
    "plt.plot(r, dp_dr_sky)\n",
    "plt.xlabel('distance (Mpc)') \n",
    "plt.ylabel('prob Mpc$^{-1}$') \n",
    "plt.show()"
   ]
  },
  {
   "cell_type": "code",
   "execution_count": null,
   "metadata": {},
   "outputs": [],
   "source": []
  }
 ],
 "metadata": {
  "kernelspec": {
   "display_name": "Python 3",
   "language": "python",
   "name": "python3"
  },
  "language_info": {
   "codemirror_mode": {
    "name": "ipython",
    "version": 3
   },
   "file_extension": ".py",
   "mimetype": "text/x-python",
   "name": "python",
   "nbconvert_exporter": "python",
   "pygments_lexer": "ipython3",
   "version": "3.6.7"
  }
 },
 "nbformat": 4,
 "nbformat_minor": 2
}
