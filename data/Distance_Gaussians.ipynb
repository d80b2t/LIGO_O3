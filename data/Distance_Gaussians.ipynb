{
 "cells": [
  {
   "cell_type": "code",
   "execution_count": 1,
   "metadata": {},
   "outputs": [],
   "source": [
    "'''\n",
    "Very baby calculations...\n",
    "https://www.astroml.org/book_figures/chapter3/fig_gaussian_distribution.html\n",
    "https://scipython.com/blog/visualizing-the-bivariate-gaussian-distribution/\n",
    "'''"
   ]
  },
  {
   "cell_type": "code",
   "execution_count": 2,
   "metadata": {},
   "outputs": [],
   "source": [
    "import numpy as np\n",
    "\n",
    "from scipy.stats   import norm\n",
    "from astropy.io    import ascii\n",
    "from astropy.table import Table, Column, MaskedColumn\n",
    "\n",
    "import matplotlib.pyplot as plt"
   ]
  },
  {
   "cell_type": "code",
   "execution_count": 31,
   "metadata": {},
   "outputs": [],
   "source": [
    "from astropy import units as u\n",
    "from astropy import cosmology\n",
    "from astropy.cosmology import WMAP5, WMAP7, Planck15"
   ]
  },
  {
   "cell_type": "code",
   "execution_count": 3,
   "metadata": {},
   "outputs": [],
   "source": [
    "data = ascii.read(\"SuperEvents_distance.tbl\")  "
   ]
  },
  {
   "cell_type": "code",
   "execution_count": 4,
   "metadata": {},
   "outputs": [
    {
     "data": {
      "text/html": [
       "<i>Table length=14</i>\n",
       "<table id=\"table4848969768\" class=\"table-striped table-bordered table-condensed\">\n",
       "<thead><tr><th>GW</th><th>SuperEvent_ID</th><th>eventID</th><th>area50</th><th>area90</th><th>distance</th><th>err_dist</th><th>gaussian</th></tr></thead>\n",
       "<thead><tr><th>str2</th><th>str9</th><th>str7</th><th>int64</th><th>int64</th><th>int64</th><th>int64</th><th>str1</th></tr></thead>\n",
       "<tr><td>GW</td><td>S190602aq</td><td>G334993</td><td>286</td><td>1172</td><td>797</td><td>238</td><td>y</td></tr>\n",
       "<tr><td>GW</td><td>S190521r</td><td>G333674</td><td>162</td><td>488</td><td>1136</td><td>279</td><td>y</td></tr>\n",
       "<tr><td>GW</td><td>S190521g</td><td>G333631</td><td>144</td><td>765</td><td>3931</td><td>953</td><td>y</td></tr>\n",
       "<tr><td>GW</td><td>S190519bj</td><td>G333462</td><td>169</td><td>967</td><td>3154</td><td>791</td><td>y</td></tr>\n",
       "<tr><td>GW</td><td>S190517h</td><td>G333132</td><td>152</td><td>939</td><td>2950</td><td>1038</td><td>n</td></tr>\n",
       "<tr><td>GW</td><td>S190513bm</td><td>G332333</td><td>134</td><td>691</td><td>1987</td><td>501</td><td>y</td></tr>\n",
       "<tr><td>GW</td><td>S190512at</td><td>G332191</td><td>44</td><td>252</td><td>1388</td><td>322</td><td>y</td></tr>\n",
       "<tr><td>GW</td><td>S190510g</td><td>G331903</td><td>31</td><td>1166</td><td>227</td><td>92</td><td>y</td></tr>\n",
       "<tr><td>GW</td><td>S190503bf</td><td>G331315</td><td>104</td><td>448</td><td>421</td><td>105</td><td>y</td></tr>\n",
       "<tr><td>GW</td><td>S190426c</td><td>G330687</td><td>214</td><td>1131</td><td>377</td><td>100</td><td>y</td></tr>\n",
       "<tr><td>GW</td><td>S190425z</td><td>G330561</td><td>1378</td><td>7461</td><td>156</td><td>41</td><td>y</td></tr>\n",
       "<tr><td>GW</td><td>S190421ar</td><td>G330308</td><td>399</td><td>1444</td><td>1628</td><td>535</td><td>y</td></tr>\n",
       "<tr><td>GW</td><td>S190412m</td><td>G329483</td><td>37</td><td>156</td><td>812</td><td>194</td><td>y</td></tr>\n",
       "<tr><td>GW</td><td>S190408an</td><td>G329243</td><td>82</td><td>387</td><td>1473</td><td>358</td><td>y</td></tr>\n",
       "</table>"
      ],
      "text/plain": [
       "<Table length=14>\n",
       " GW  SuperEvent_ID eventID area50 area90 distance err_dist gaussian\n",
       "str2      str9       str7  int64  int64   int64    int64     str1  \n",
       "---- ------------- ------- ------ ------ -------- -------- --------\n",
       "  GW     S190602aq G334993    286   1172      797      238        y\n",
       "  GW      S190521r G333674    162    488     1136      279        y\n",
       "  GW      S190521g G333631    144    765     3931      953        y\n",
       "  GW     S190519bj G333462    169    967     3154      791        y\n",
       "  GW      S190517h G333132    152    939     2950     1038        n\n",
       "  GW     S190513bm G332333    134    691     1987      501        y\n",
       "  GW     S190512at G332191     44    252     1388      322        y\n",
       "  GW      S190510g G331903     31   1166      227       92        y\n",
       "  GW     S190503bf G331315    104    448      421      105        y\n",
       "  GW      S190426c G330687    214   1131      377      100        y\n",
       "  GW      S190425z G330561   1378   7461      156       41        y\n",
       "  GW     S190421ar G330308    399   1444     1628      535        y\n",
       "  GW      S190412m G329483     37    156      812      194        y\n",
       "  GW     S190408an G329243     82    387     1473      358        y"
      ]
     },
     "execution_count": 4,
     "metadata": {},
     "output_type": "execute_result"
    }
   ],
   "source": [
    "data"
   ]
  },
  {
   "cell_type": "code",
   "execution_count": 10,
   "metadata": {},
   "outputs": [
    {
     "data": {
      "text/plain": [
       "238"
      ]
     },
     "execution_count": 10,
     "metadata": {},
     "output_type": "execute_result"
    }
   ],
   "source": [
    "data['err_dist'][0]"
   ]
  },
  {
   "cell_type": "code",
   "execution_count": 19,
   "metadata": {},
   "outputs": [
    {
     "name": "stdout",
     "output_type": "stream",
     "text": [
      "0\n",
      "1\n",
      "2\n",
      "3\n",
      "4\n",
      "5\n",
      "6\n",
      "7\n",
      "8\n",
      "9\n",
      "10\n",
      "11\n",
      "12\n",
      "13\n"
     ]
    }
   ],
   "source": [
    "for x in range(len(data)):\n",
    "    print(x)"
   ]
  },
  {
   "cell_type": "code",
   "execution_count": 28,
   "metadata": {},
   "outputs": [
    {
     "name": "stdout",
     "output_type": "stream",
     "text": [
      "0\n",
      "1\n",
      "2\n",
      "3\n",
      "4\n",
      "5\n",
      "6\n",
      "7\n",
      "8\n",
      "9\n",
      "10\n",
      "11\n",
      "12\n",
      "13\n"
     ]
    },
    {
     "data": {
      "image/png": "[encoded data removed]",
      "text/plain": [
       "<Figure size 432x288 with 1 Axes>"
      ]
     },
     "metadata": {},
     "output_type": "display_data"
    }
   ],
   "source": [
    "# Plot between -10 and 10 with .001 steps.\n",
    "\n",
    "# Mean = 0, SD = 2.\n",
    "for x in range(len(data)):\n",
    "    print(x)\n",
    "    x_axis = np.arange(0, 4000, 0.001)\n",
    "    plt.plot(x_axis, norm.pdf(x_axis,data['distance'][x],data['err_dist'][x])*10)\n",
    "plt.show()"
   ]
  },
  {
   "cell_type": "code",
   "execution_count": 29,
   "metadata": {},
   "outputs": [],
   "source": [
    "plt.show()"
   ]
  },
  {
   "cell_type": "code",
   "execution_count": null,
   "metadata": {},
   "outputs": [],
   "source": []
  }
 ],
 "metadata": {
  "kernelspec": {
   "display_name": "Python 3",
   "language": "python",
   "name": "python3"
  },
  "language_info": {
   "codemirror_mode": {
    "name": "ipython",
    "version": 3
   },
   "file_extension": ".py",
   "mimetype": "text/x-python",
   "name": "python",
   "nbconvert_exporter": "python",
   "pygments_lexer": "ipython3",
   "version": "3.6.4"
  }
 },
 "nbformat": 4,
 "nbformat_minor": 2
}
