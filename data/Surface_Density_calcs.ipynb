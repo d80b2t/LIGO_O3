{
 "cells": [
  {
   "cell_type": "code",
   "execution_count": 1,
   "metadata": {},
   "outputs": [],
   "source": [
    "### Very baby calculations..."
   ]
  },
  {
   "cell_type": "code",
   "execution_count": 2,
   "metadata": {},
   "outputs": [],
   "source": [
    "from astropy.io import ascii\n",
    "from astropy.table import Table, Column, MaskedColumn\n",
    "import numpy as np"
   ]
  },
  {
   "cell_type": "code",
   "execution_count": 3,
   "metadata": {},
   "outputs": [],
   "source": [
    "data = ascii.read(\"SuperEvents_distance.tbl\")  "
   ]
  },
  {
   "cell_type": "code",
   "execution_count": 4,
   "metadata": {},
   "outputs": [
    {
     "data": {
      "text/html": [
       "<i>Table length=14</i>\n",
       "<table id=\"table4668380048\" class=\"table-striped table-bordered table-condensed\">\n",
       "<thead><tr><th>GW</th><th>SuperEvent_ID</th><th>eventID</th><th>area50</th><th>area90</th><th>distance</th><th>err_dist</th><th>gaussian</th></tr></thead>\n",
       "<thead><tr><th>str2</th><th>str9</th><th>str7</th><th>int64</th><th>int64</th><th>int64</th><th>int64</th><th>str1</th></tr></thead>\n",
       "<tr><td>GW</td><td>S190602aq</td><td>G334993</td><td>286</td><td>1172</td><td>797</td><td>238</td><td>y</td></tr>\n",
       "<tr><td>GW</td><td>S190521r</td><td>G333674</td><td>162</td><td>488</td><td>1136</td><td>279</td><td>y</td></tr>\n",
       "<tr><td>GW</td><td>S190521g</td><td>G333631</td><td>144</td><td>765</td><td>3931</td><td>953</td><td>y</td></tr>\n",
       "<tr><td>GW</td><td>S190519bj</td><td>G333462</td><td>169</td><td>967</td><td>3154</td><td>791</td><td>y</td></tr>\n",
       "<tr><td>GW</td><td>S190517h</td><td>G333132</td><td>152</td><td>939</td><td>2950</td><td>1038</td><td>n</td></tr>\n",
       "<tr><td>GW</td><td>S190513bm</td><td>G332333</td><td>134</td><td>691</td><td>1987</td><td>501</td><td>y</td></tr>\n",
       "<tr><td>GW</td><td>S190512at</td><td>G332191</td><td>44</td><td>252</td><td>1388</td><td>322</td><td>y</td></tr>\n",
       "<tr><td>GW</td><td>S190510g</td><td>G331903</td><td>31</td><td>1166</td><td>227</td><td>92</td><td>y</td></tr>\n",
       "<tr><td>GW</td><td>S190503bf</td><td>G331315</td><td>104</td><td>448</td><td>421</td><td>105</td><td>y</td></tr>\n",
       "<tr><td>GW</td><td>S190426c</td><td>G330687</td><td>214</td><td>1131</td><td>377</td><td>100</td><td>y</td></tr>\n",
       "<tr><td>GW</td><td>S190425z</td><td>G330561</td><td>1378</td><td>7461</td><td>156</td><td>41</td><td>y</td></tr>\n",
       "<tr><td>GW</td><td>S190421ar</td><td>G330308</td><td>399</td><td>1444</td><td>1628</td><td>535</td><td>y</td></tr>\n",
       "<tr><td>GW</td><td>S190412m</td><td>G329483</td><td>37</td><td>156</td><td>812</td><td>194</td><td>y</td></tr>\n",
       "<tr><td>GW</td><td>S190408an</td><td>G329243</td><td>82</td><td>387</td><td>1473</td><td>358</td><td>y</td></tr>\n",
       "</table>"
      ],
      "text/plain": [
       "<Table length=14>\n",
       " GW  SuperEvent_ID eventID area50 area90 distance err_dist gaussian\n",
       "str2      str9       str7  int64  int64   int64    int64     str1  \n",
       "---- ------------- ------- ------ ------ -------- -------- --------\n",
       "  GW     S190602aq G334993    286   1172      797      238        y\n",
       "  GW      S190521r G333674    162    488     1136      279        y\n",
       "  GW      S190521g G333631    144    765     3931      953        y\n",
       "  GW     S190519bj G333462    169    967     3154      791        y\n",
       "  GW      S190517h G333132    152    939     2950     1038        n\n",
       "  GW     S190513bm G332333    134    691     1987      501        y\n",
       "  GW     S190512at G332191     44    252     1388      322        y\n",
       "  GW      S190510g G331903     31   1166      227       92        y\n",
       "  GW     S190503bf G331315    104    448      421      105        y\n",
       "  GW      S190426c G330687    214   1131      377      100        y\n",
       "  GW      S190425z G330561   1378   7461      156       41        y\n",
       "  GW     S190421ar G330308    399   1444     1628      535        y\n",
       "  GW      S190412m G329483     37    156      812      194        y\n",
       "  GW     S190408an G329243     82    387     1473      358        y"
      ]
     },
     "execution_count": 4,
     "metadata": {},
     "output_type": "execute_result"
    }
   ],
   "source": [
    "data"
   ]
  },
  {
   "cell_type": "code",
   "execution_count": null,
   "metadata": {},
   "outputs": [],
   "source": [
    "### From Assef et al. (2018, ApJS)\n",
    "\n",
    "## Across 30,093 deg^{2} \n",
    "## The R90 catalog consists of 4,543,530 AGN candidates with 90% reliability, \n",
    "## while the C75 catalog consists of 20,907,127 AGN candidates with 75% completeness. \n",
    "\n",
    "r90_SurfaceDensity =  4543530./30093.  ## around 150 deg^-2\n",
    "c75_SurfaceDensity = 20907127./30093.  ## around 700 deg^-2"
   ]
  },
  {
   "cell_type": "code",
   "execution_count": null,
   "metadata": {},
   "outputs": [],
   "source": [
    "r90_targets  = r90_SurfaceDensity * data['area50']"
   ]
  },
  {
   "cell_type": "code",
   "execution_count": null,
   "metadata": {},
   "outputs": [],
   "source": [
    "dist_max = data['distance'] + data['err_dist']\n",
    "dist_min = data['distance'] - data['err_dist']"
   ]
  },
  {
   "cell_type": "code",
   "execution_count": null,
   "metadata": {},
   "outputs": [],
   "source": [
    "volume_elements = dist_max - dist_min"
   ]
  },
  {
   "cell_type": "code",
   "execution_count": null,
   "metadata": {},
   "outputs": [],
   "source": [
    "data_out = Table([r90_targets, volume_elements], names=['r90_targets' , 'volume_elements'])\n",
    "#data_out = {'r90_target': r90_targets, 'volume_element': volume_elements}  \n"
   ]
  },
  {
   "cell_type": "code",
   "execution_count": null,
   "metadata": {},
   "outputs": [],
   "source": [
    "ascii.write(data_out, 'data_out_temp.dat', formats={'r90_targets': '%12.1f', 'volume_elements': '%12.1f'},    \n",
    "            overwrite=True)"
   ]
  },
  {
   "cell_type": "code",
   "execution_count": null,
   "metadata": {},
   "outputs": [],
   "source": [
    "## http://hea-www.harvard.edu/~aldcroft/tmp/p4a/hamogu/html/files/asciifiles.html\n",
    "\n",
    "## types = ['barred spiral', 'spiral', 'peculiar (ring)', 'elliptical', 'elliptical']\n",
    "## redshifts = np.array([0.024221, 0.132, 0.22, 0.34, 0.45])\n",
    "## lums = np.array([1e40, 1.2e40, 2e40, 3e40, 4e40])\n",
    "## table = {'type': types, 'redshift': redshifts, 'lum': lums}"
   ]
  },
  {
   "cell_type": "code",
   "execution_count": null,
   "metadata": {},
   "outputs": [],
   "source": [
    "# ascii.write(table, 'galaxies.dat', formats={'redshift': '%.5f', 'lum': '%.2e'})"
   ]
  },
  {
   "cell_type": "code",
   "execution_count": null,
   "metadata": {},
   "outputs": [],
   "source": [
    "#cat galaxies.dat"
   ]
  },
  {
   "cell_type": "code",
   "execution_count": null,
   "metadata": {},
   "outputs": [],
   "source": []
  }
 ],
 "metadata": {
  "kernelspec": {
   "display_name": "Python 3",
   "language": "python",
   "name": "python3"
  },
  "language_info": {
   "codemirror_mode": {
    "name": "ipython",
    "version": 3
   },
   "file_extension": ".py",
   "mimetype": "text/x-python",
   "name": "python",
   "nbconvert_exporter": "python",
   "pygments_lexer": "ipython3",
   "version": "3.6.4"
  }
 },
 "nbformat": 4,
 "nbformat_minor": 2
}
